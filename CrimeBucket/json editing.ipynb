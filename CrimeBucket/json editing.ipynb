{
 "cells": [
  {
   "cell_type": "code",
   "execution_count": 1,
   "metadata": {},
   "outputs": [
    {
     "name": "stdout",
     "output_type": "stream",
     "text": [
      "Overwriting buckets.json\n"
     ]
    }
   ],
   "source": [
    "%%writefile buckets.json\n",
    "\n",
    "{\n",
    "\t\"crime\" : [\"sabotoge #equipment#\", \"sabotoge experiment\", \"stole food\",  \"falsify data\", \"murder\", \n",
    "               \"p-hacking\", \"insulted someone\", \"excluded someone\", \"abusing authority\", \"Prom Week'd\",\n",
    "               \"harassment\", \"injury\", \"imprisonment\", \"mock beliefs\", \"undermine authority\", \"make mess\",\n",
    "               \"beaurucratic obstruction\", \"job sniping\", \"grant sniping\", \"theft\", \"burn-out\", \"arson\"],\n",
    "    \"equipment\" : [\"computer\", \"tool\", \"print-outs\"],\n",
    "    \"motivations\" : [\"response to crime\", \"accidental\", \"blackmail\", \"removing witness\", \"paranoia\", \"regain stability\",\n",
    "                     \"assert authority\", \"self sabotoge\", \"impress someone\", \"helicopter figure\", \"misunderstanding\",\n",
    "                     \"Don Quixote\", \"eliminate distractions\", \"avoiding someone\", \"preemptive caution\", \"apathy\",\n",
    "                     \"lack of concern\"],\n",
    "    \"evidence\" : [\"#physical_evidence#\", \"#digital_evidence#\", \"#social_evidence#\"],\n",
    "    \"physical_evidence\" : [\"#against_person_object#\", \"#weapons#\", \"#clutter#\"],\n",
    "    \"against_person_object\" : [\"damage to a person/object\", \"remains of a person/object\"],\n",
    "    \"weapons\": [\"Evidence of Violent Use on a weapon\", \"weapon has a known owner\"],\n",
    "    \"clutter\": [\"clutter used to hide something\", \"clutter as negilence\", \"clutter as the result of a struggle\"],\n",
    "    \"physical_modifiers\": [\"damaged\", \"misplaced\", \"hidden\"],\n",
    "    \"digital_evidence\": [\"#data#\", \"#communications#\", \"#security#\"],\n",
    "    \"data\": [\"internally incosistent digital data\", \"externally incosistent digital data\",\"internally incosistent physical data\", \"externally incosistent physical data\"]\n",
    "    \"communications\": [\"deleted email\", \"undeleted email\", \"missent email\", \"forged email\"],\n",
    "    \"security\": [\"forged credentials\", \"data access records\", \"data edit records\"],\n",
    "    \"social_evidence\": [\"#witnessing#\", \"#inferring#\", \"#rumors#\", \"evidence of use as proxy\"],\n",
    "    \"witnessing\": [\"eyewitness\", \"ear-witness\"],\n",
    "    \"inferring\": [\"unusual behavoir\", \"lack of alibi\", \"obstruction\"],\n",
    "    \"rumors\": [\"rumor as a crime\", \"rumor as evidence\"]\n",
    "}"
   ]
  }
 ],
 "metadata": {
  "kernelspec": {
   "display_name": "Python 3",
   "language": "python",
   "name": "python3"
  },
  "language_info": {
   "codemirror_mode": {
    "name": "ipython",
    "version": 3
   },
   "file_extension": ".py",
   "mimetype": "text/x-python",
   "name": "python",
   "nbconvert_exporter": "python",
   "pygments_lexer": "ipython3",
   "version": "3.6.3"
  }
 },
 "nbformat": 4,
 "nbformat_minor": 2
}
