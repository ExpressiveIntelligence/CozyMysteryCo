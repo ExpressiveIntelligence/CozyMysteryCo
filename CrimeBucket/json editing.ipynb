{
 "cells": [
  {
   "cell_type": "code",
   "execution_count": 2,
   "metadata": {},
   "outputs": [
    {
     "name": "stdout",
     "output_type": "stream",
     "text": [
      "Writing buckets.json\n"
     ]
    }
   ],
   "source": [
    "%%writefile buckets.json\n",
    "\n",
    "{\n",
    "\t\"crime\" : [\"sabotoge #equipment#\", \"sabotoge experiment\", \"stole food\",  \"falsify data\", \"murder\", \n",
    "               \"p-hacking\", \"insulted someone\", \"excluded someone\", \"abusing authority\", \"Prom Week'd\",\n",
    "               \"harassment\", \"injury\", \"imprisonment\", \"mock beliefs\", \"questioning authority\", \"make mess\",\n",
    "               \"beaurucratic obstruction\", \"job sniping\", \"grant sniping\"],\n",
    "    \"equipment\" : [\"computer\", \"tool\", \"print-outs\"],\n",
    "    \"motivations\" : [\"response to crime\", \"accidental\", \"blackmail\", \"removing witness\", \"paranoia\", \"regain stability\",\n",
    "                     \"assert authority\", \"self sabotoge\", \"impress someone\", \"helicopter figure\", \"misunderstanding\",\n",
    "                     \"Don Quixote\", \"eliminate distractions\", \"avoiding someone\", \"preemptive caution\", \"apathy\",\n",
    "                     \"lack of concern\"],\n",
    "}"
   ]
  }
 ],
 "metadata": {
  "kernelspec": {
   "display_name": "Python 3",
   "language": "python",
   "name": "python3"
  },
  "language_info": {
   "codemirror_mode": {
    "name": "ipython",
    "version": 3
   },
   "file_extension": ".py",
   "mimetype": "text/x-python",
   "name": "python",
   "nbconvert_exporter": "python",
   "pygments_lexer": "ipython3",
   "version": "3.6.3"
  }
 },
 "nbformat": 4,
 "nbformat_minor": 2
}
